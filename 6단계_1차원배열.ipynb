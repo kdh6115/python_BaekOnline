{
 "cells": [
  {
   "cell_type": "markdown",
   "metadata": {},
   "source": [
    "## 10818번 : 최소, 최대"
   ]
  },
  {
   "cell_type": "code",
   "execution_count": 26,
   "metadata": {},
   "outputs": [
    {
     "name": "stdout",
     "output_type": "stream",
     "text": [
      "5\n",
      "20\n",
      "10\n",
      "35\n",
      "30\n",
      "7\n",
      "[35] [7]\n"
     ]
    }
   ],
   "source": [
    "# 런타임오류\n",
    "n = int(input())\n",
    "t = []\n",
    "for i in range(n) :\n",
    "    a = list(map(int,input().split()))\n",
    "    t.append(a)\n",
    "print(min(t), max(t))"
   ]
  },
  {
   "cell_type": "code",
   "execution_count": 1,
   "metadata": {},
   "outputs": [
    {
     "name": "stdout",
     "output_type": "stream",
     "text": [
      "5\n",
      "20 10 35 30 7\n",
      "7 35\n"
     ]
    }
   ],
   "source": [
    "Case = int(input())\n",
    "num_list = list(map(int, input().split()))\n",
    "print('{} {}'.format(min(num_list), max(num_list)))"
   ]
  },
  {
   "cell_type": "markdown",
   "metadata": {},
   "source": [
    "## 2562번 : 최댓값"
   ]
  },
  {
   "cell_type": "code",
   "execution_count": 3,
   "metadata": {},
   "outputs": [
    {
     "name": "stdout",
     "output_type": "stream",
     "text": [
      "3 29 38 12 57 74 40 85 61\n",
      "85\n",
      "8\n"
     ]
    }
   ],
   "source": [
    "num_list = list(map(int, input().split()))\n",
    "\n",
    "print(max(num_list))\n",
    "print(num_list.index(max(num_list))+1)"
   ]
  },
  {
   "cell_type": "code",
   "execution_count": 1,
   "metadata": {},
   "outputs": [
    {
     "name": "stdout",
     "output_type": "stream",
     "text": [
      "3\n",
      "29\n",
      "38\n",
      "12\n",
      "57\n",
      "74\n",
      "40\n",
      "85\n",
      "61\n",
      "85\n",
      "8\n"
     ]
    }
   ],
   "source": [
    "# 이게 정답이고 내껀 틀렸단다\n",
    "num_list = []\n",
    "for i in range(9):\n",
    "    num_list.append(int(input()))\n",
    "    \n",
    "print(max(num_list))\n",
    "print(num_list.index(max(num_list))+1)"
   ]
  },
  {
   "cell_type": "markdown",
   "metadata": {},
   "source": [
    "## 2577번 : 숫자의 개수"
   ]
  },
  {
   "cell_type": "code",
   "execution_count": 7,
   "metadata": {},
   "outputs": [
    {
     "name": "stdout",
     "output_type": "stream",
     "text": [
      "150 266 427\n",
      "3\n",
      "1\n",
      "0\n",
      "2\n",
      "0\n",
      "0\n",
      "0\n",
      "2\n",
      "0\n",
      "0\n"
     ]
    }
   ],
   "source": [
    "# 못품, 런타임 에러\n",
    "a, b, c = map(int, input().split())\n",
    "result = a * b * c\n",
    "num = str(result)\n",
    "for i in range(0,10) :\n",
    "    print(a.count(str(i)))"
   ]
  },
  {
   "cell_type": "code",
   "execution_count": 1,
   "metadata": {},
   "outputs": [
    {
     "name": "stdout",
     "output_type": "stream",
     "text": [
      "150\n",
      "266\n",
      "427\n",
      "3\n",
      "1\n",
      "0\n",
      "2\n",
      "0\n",
      "0\n",
      "0\n",
      "2\n",
      "0\n",
      "0\n"
     ]
    }
   ],
   "source": [
    "A = input()\n",
    "B = input()\n",
    "C = input()\n",
    "\n",
    "num = int(A) * int(B) * int(C)\n",
    "\n",
    "num = str(num)\n",
    "\n",
    "for i in range(0, 10):\n",
    "    print(num.count(str(i)))"
   ]
  },
  {
   "cell_type": "markdown",
   "metadata": {},
   "source": [
    "## 3052번 : 나머지"
   ]
  },
  {
   "cell_type": "code",
   "execution_count": 44,
   "metadata": {},
   "outputs": [
    {
     "name": "stdout",
     "output_type": "stream",
     "text": [
      "39\n",
      "40\n",
      "41\n",
      "42\n",
      "43\n",
      "44\n",
      "82\n",
      "83\n",
      "84\n",
      "85\n",
      "6\n"
     ]
    }
   ],
   "source": [
    "# 틀림\n",
    "t = []\n",
    "for i in range(10) :\n",
    "    a = input()\n",
    "    t.append(int(a) % 42)\n",
    "# len(set(t))\n",
    "num_list = set(t)\n",
    "print(len(num_list))"
   ]
  },
  {
   "cell_type": "markdown",
   "metadata": {},
   "source": [
    "## 1546번 : 평균"
   ]
  },
  {
   "cell_type": "code",
   "execution_count": 91,
   "metadata": {},
   "outputs": [
    {
     "name": "stdout",
     "output_type": "stream",
     "text": [
      "3\n",
      "10\n",
      "20\n",
      "30\n",
      "66.67\n"
     ]
    }
   ],
   "source": [
    "# 런타임에러\n",
    "import numpy as np\n",
    "num = []\n",
    "num_a = []\n",
    "n = int(input())\n",
    "for i in range(n) :\n",
    "    a = input()\n",
    "    num.append(int(a))\n",
    "for i in range(n) :\n",
    "    result = num[i]/max(num) * 100\n",
    "    num_a.append(result)\n",
    "print(round(np.mean(num_a),2))"
   ]
  },
  {
   "cell_type": "code",
   "execution_count": 98,
   "metadata": {},
   "outputs": [
    {
     "name": "stdout",
     "output_type": "stream",
     "text": [
      "3\n",
      "10 20 30\n",
      "66.67\n"
     ]
    }
   ],
   "source": [
    "n = int(input())\n",
    "b = list(map(int, input().split()))\n",
    "c=0\n",
    "new_point=[]\n",
    "\n",
    "for i in b :\n",
    "    c+=i\n",
    "avg_old = c/n\n",
    "\n",
    "for i in b : \n",
    "    new_point.append(i/max(b) * 100)\n",
    "print(\"%0.2f\" % (sum(new_point)/a))"
   ]
  }
 ],
 "metadata": {
  "kernelspec": {
   "display_name": "Python 3",
   "language": "python",
   "name": "python3"
  },
  "language_info": {
   "codemirror_mode": {
    "name": "ipython",
    "version": 3
   },
   "file_extension": ".py",
   "mimetype": "text/x-python",
   "name": "python",
   "nbconvert_exporter": "python",
   "pygments_lexer": "ipython3",
   "version": "3.7.6"
  }
 },
 "nbformat": 4,
 "nbformat_minor": 4
}
