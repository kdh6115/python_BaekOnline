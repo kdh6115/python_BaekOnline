{
 "cells": [
  {
   "cell_type": "markdown",
   "metadata": {},
   "source": [
    "## 1330번 : 두 수 비교하기"
   ]
  },
  {
   "cell_type": "code",
   "execution_count": 1,
   "metadata": {},
   "outputs": [
    {
     "name": "stdout",
     "output_type": "stream",
     "text": [
      "10 2\n",
      ">\n"
     ]
    }
   ],
   "source": [
    "a, b = input().split()\n",
    "A = int(a); B = int(b)\n",
    "if A>B :\n",
    "    print(\">\")\n",
    "elif A<B :\n",
    "    print(\"<\")\n",
    "else :\n",
    "    print(\"==\")"
   ]
  },
  {
   "cell_type": "markdown",
   "metadata": {},
   "source": [
    "## 9498번 : 시험 성적"
   ]
  },
  {
   "cell_type": "code",
   "execution_count": 2,
   "metadata": {},
   "outputs": [
    {
     "name": "stdout",
     "output_type": "stream",
     "text": [
      "100\n",
      "A\n"
     ]
    }
   ],
   "source": [
    "a = int(input())\n",
    "if 90<=a<=100 :\n",
    "    print(\"A\")\n",
    "elif 80<=a<=89 :\n",
    "    print(\"B\")\n",
    "elif 70<=a<=79 :\n",
    "    print(\"C\")\n",
    "elif 60<=a<=69 :\n",
    "    print(\"D\")\n",
    "else :\n",
    "    print(\"F\")"
   ]
  },
  {
   "cell_type": "markdown",
   "metadata": {},
   "source": [
    "## 2753번 : 윤년"
   ]
  },
  {
   "cell_type": "code",
   "execution_count": 3,
   "metadata": {},
   "outputs": [
    {
     "name": "stdout",
     "output_type": "stream",
     "text": [
      "1996\n",
      "1\n"
     ]
    }
   ],
   "source": [
    "# 오답\n",
    "year = int(input())\n",
    "if ((year%4 == 0) and (year%100 != 0 or year%400 == 0)):\n",
    "    print(1)\n",
    "else :\n",
    "    print(0)"
   ]
  },
  {
   "cell_type": "markdown",
   "metadata": {},
   "source": [
    "## 14681번 : 사분면 고르기"
   ]
  },
  {
   "cell_type": "code",
   "execution_count": 4,
   "metadata": {},
   "outputs": [
    {
     "name": "stdout",
     "output_type": "stream",
     "text": [
      "12\n",
      "5\n",
      "1\n"
     ]
    }
   ],
   "source": [
    "x = int(input())\n",
    "y = int(input())\n",
    "\n",
    "if x>0 and y >0 :\n",
    "    print(1)\n",
    "elif x<0 and y>0 :\n",
    "    print(2)\n",
    "elif x<0 and y<0 :\n",
    "    print(3)\n",
    "else : print(4)"
   ]
  },
  {
   "cell_type": "markdown",
   "metadata": {},
   "source": [
    "## 2884번 : 알람 시계"
   ]
  },
  {
   "cell_type": "code",
   "execution_count": 5,
   "metadata": {},
   "outputs": [
    {
     "name": "stdout",
     "output_type": "stream",
     "text": [
      "0 30\n",
      "23 45\n"
     ]
    }
   ],
   "source": [
    "# 오답\n",
    "h, m = input().split()\n",
    "H = int(h)\n",
    "M = int(m)\n",
    "\n",
    "if M<45 :\n",
    "    if H>0 :\n",
    "        H = H-1\n",
    "        M = M+15\n",
    "        print(H, M)\n",
    "    else :\n",
    "        H = 23-H\n",
    "        M = M+15\n",
    "        print(H, M)\n",
    "else :\n",
    "    print(H, M-45)"
   ]
  }
 ],
 "metadata": {
  "kernelspec": {
   "display_name": "Python 3",
   "language": "python",
   "name": "python3"
  },
  "language_info": {
   "codemirror_mode": {
    "name": "ipython",
    "version": 3
   },
   "file_extension": ".py",
   "mimetype": "text/x-python",
   "name": "python",
   "nbconvert_exporter": "python",
   "pygments_lexer": "ipython3",
   "version": "3.7.6"
  }
 },
 "nbformat": 4,
 "nbformat_minor": 4
}
